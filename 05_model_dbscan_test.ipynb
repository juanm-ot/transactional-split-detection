version https://git-lfs.github.com/spec/v1
oid sha256:2ecd2a0777875a93fd1c95918b8fe26713c2d7e6870348441fa3f9d54314ef9b
size 931174
