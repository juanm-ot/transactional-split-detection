version https://git-lfs.github.com/spec/v1
oid sha256:172f27e6b683dccd6746377acbe21afde68c2e6a95c229d92c5ec22cf0a2ab32
size 23891
