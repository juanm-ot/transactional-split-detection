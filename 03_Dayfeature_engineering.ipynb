{
 "cells": [
  {
   "cell_type": "markdown",
   "metadata": {},
   "source": [
    "# Feature Engineering"
   ]
  },
  {
   "cell_type": "markdown",
   "metadata": {},
   "source": [
    "El objetivo es identificar transacciones que evidencian un comportamiento de fraccionamiento(Mala practica transaccional). El set de datos en su forma raw no me provee de columnas que puedan servir de features, por esta razon en función del problema y basandome en el analisis exploratorio de datos voy crear nuevas columnas que me describan la transaccion en terminos de:\n",
    "\n",
    "* Volumen moneda\n",
    "* Volumen transaccional\n",
    "* Tiempo entre transacciones\n",
    "\n",
    "para cada flujo de moneda y fecha del registro o transacción. \n",
    "\n",
    "\n",
    "Con estos datos puedo obtener features que me permitan caracterizar las transacciones en terminos del fraccionamiento transaccional. Segun el concepto es ```fraccionar una transacción en un número mayor de transacciones con menor monto que agrupadas suman el valor de la transacción original. Estas transacciones se caracterizan por estar en una misma ventana de tiempo que suele ser 24 horas y tienen como origen o destino la misma cuenta o cliente. ```\n",
    "\n",
    "**Nota:** La ventana de 24 horas para efectos de este analisis sera tomada como un dia desde las 00:00:00 hasta las 24:00:00\n",
    "\n",
    "\n",
    "Tu, profesional de Nequi que esta evaluando mi prueba, te preguntaras probablemente el porque de la decision. Pues bien, en la carpeta pruebas_concepto encontraras un archivo [14h_feature_engineering](pruebas_concepto\\03_24hfeature_engineering.ipynb). Alli saque los features contando ventanas de tiempo de 24 entre cada pareja transaccional para contar sus transacciones y tengo dos hallazgos:\n",
    "\n",
    "* Los intervalos de 24 horas aumentan el espacio muestral de los outliers, sesgando la caracterización del las transacciones que estan en el ultimo quartil. La ventana de 24 horas genera programaticamente un bucle que se detiene cuando hay un espacio de inactividad superior a esas 24 horas, por eso aumenta en desproporcion los outliers. \n",
    "* Un usuario que fracciona sus transacciones no suele hacerl0 en una medida de 3-4 transacciones sino probablemente mas de 10 y de forma muy consecutiva. Por lo tanto, así fraccione sus transacciones entre un día y otro se podria detectar las detectaría en cualquier a de lo dos dias por que al menos en uno habrá mas de la mitad de las transacciones totales. \n",
    "\n"
   ]
  },
  {
   "cell_type": "markdown",
   "metadata": {},
   "source": [
    "### Importar librerias"
   ]
  },
  {
   "cell_type": "code",
   "execution_count": 2,
   "metadata": {},
   "outputs": [],
   "source": [
    "import pandas as pd\n",
    "import dask.dataframe as dd\n",
    "from datetime import timedelta\n",
    "import numpy as np"
   ]
  },
  {
   "cell_type": "markdown",
   "metadata": {},
   "source": [
    "### Leer la data"
   ]
  },
  {
   "cell_type": "code",
   "execution_count": 3,
   "metadata": {},
   "outputs": [],
   "source": [
    "route = 'processing_data_0001_dummie.parquet'\n",
    "df = dd.read_parquet(route)"
   ]
  },
  {
   "cell_type": "markdown",
   "metadata": {},
   "source": [
    "### Features"
   ]
  },
  {
   "cell_type": "markdown",
   "metadata": {},
   "source": [
    "*  **Total de transacciones acumuladas por dia**: Esta columna va a llevar el conteo desde un mismo flujo de moneda( account -> subsidiary) en una ventana de 1 dia (= 24 horas) de las transacciones. El proposito de esta columna sera calcular la frecuencia transaccional en cada flujo de moneda durante la ventana de tiempo"
   ]
  },
  {
   "cell_type": "code",
   "execution_count": 4,
   "metadata": {},
   "outputs": [],
   "source": [
    "def calculate_total_transactions(partition):\n",
    "    # Ordenar el dataframe por account_number y transaction_date\n",
    "    partition = partition.sort_values(['transaction_date', 'account_number'])\n",
    "    \n",
    "    # Calcular el total de transacciones cada dia y crear una nueva columna 'total_transactions'\n",
    "    partition['total_transactions'] = partition.groupby([partition['date'], partition['account_number'], partition['subsidiary']]).cumcount() + 1\n",
    "\n",
    "    return partition\n"
   ]
  },
  {
   "cell_type": "markdown",
   "metadata": {},
   "source": [
    "*  **Total en moneda acumulada en por día:** Esta columna va a llevar una suma acumulada de la cantidad de moneda (transaction_amount) objeto de la transacción en la ventana de tiempo. El proposito de esta columna sera calcular el movimiento de moneda en cada flujo. "
   ]
  },
  {
   "cell_type": "code",
   "execution_count": 5,
   "metadata": {},
   "outputs": [],
   "source": [
    "def calculate_total_transaction_amount(partition):\n",
    "    # Ordenar el dataframe por account_number y transaction_date\n",
    "    partition = partition.sort_values(['transaction_date', 'account_number'])\n",
    "    \n",
    "    # Agregar la columna \"total_transactions\" calculando la suma acumulativa de las transacciones agrupadas por \"date\", \"account_number\" y \"subsidiary\".\n",
    "    partition['total_transaction_amount'] = partition.groupby([partition['date'], partition['account_number'], partition['subsidiary']])['transaction_amount'].cumsum()\n",
    "\n",
    "    return partition"
   ]
  },
  {
   "cell_type": "markdown",
   "metadata": {},
   "source": [
    "* **Diferencia de tiempo en minutos entre cada transaccion:** Esta columna resta el tiempo de la ultima transaccion con la inmediatamente anterior y nos da un tiempo en minutos. El proposito de esta columna es identificar los tiempos entre transacciones en esa ventana de 24 horas"
   ]
  },
  {
   "cell_type": "code",
   "execution_count": 6,
   "metadata": {},
   "outputs": [],
   "source": [
    "def calculate_time_diff_minutes(partition):\n",
    "    # Ordenar el dataframe por account_number y transaction_date\n",
    "    partition = partition.sort_values(['transaction_date', 'account_number'])\n",
    "\n",
    "    # Calcular la diferencia en tiempo entre transacciones dentro de un mismo account_number y subsidiary\n",
    "    partition['time_diff_minutes'] = partition.groupby([partition['date'], partition['account_number'], partition['subsidiary']])['transaction_date'].diff()\n",
    "\n",
    "    # Calcular la diferencia de tiempo en minutos y crear una nueva columna 'time_diff_minutes'\n",
    "    partition['time_diff_minutes'] = partition['time_diff_minutes'].dt.total_seconds() / 60\n",
    "    partition['time_diff_minutes'] = partition['time_diff_minutes'].fillna(0)\n",
    "    \n",
    "    return partition"
   ]
  },
  {
   "cell_type": "markdown",
   "metadata": {},
   "source": [
    "*  **Promedio del tiempo en minutos de las transacciones para el flujo de moneda**: Esta columa suma los tiempos entre transacciones para cada flujo de moneda y lo divide por el total de transacciones acumulado en ese registro. El proposito de esta columna es llevar un rate del tiempo entre transacciones anteriores para cada registro"
   ]
  },
  {
   "cell_type": "code",
   "execution_count": 7,
   "metadata": {},
   "outputs": [],
   "source": [
    "def calculate_avg_time_min_between_transactions(partition):\n",
    "    # Ordenar el dataframe por account_number y transaction_date\n",
    "    partition = partition.sort_values(['transaction_date', 'account_number'])\n",
    "\n",
    "    # Calcular el promedio del tiempo entre transacciones en cada ventana de tiempo (account_number y subsidiary)\n",
    "    partition['avg_time_min_between_transactions'] = partition.groupby([partition['date'], partition['account_number'], partition['subsidiary']])['time_diff_minutes'].cumsum() / (partition['total_transactions'])\n",
    "\n",
    "    return partition"
   ]
  },
  {
   "cell_type": "code",
   "execution_count": 8,
   "metadata": {},
   "outputs": [],
   "source": [
    "# Aplicar cada una de las funciones a cada partición del dataframe\n",
    "df = df.map_partitions(calculate_total_transactions)\n",
    "df = df.map_partitions(calculate_total_transaction_amount)\n",
    "df = df.map_partitions(calculate_time_diff_minutes)\n",
    "df = df.map_partitions(calculate_avg_time_min_between_transactions)"
   ]
  },
  {
   "cell_type": "markdown",
   "metadata": {},
   "source": [
    "* **Promedio de moneda en las transacciones durante la ventana de 24 horas:** Esta columna divide el acumulado de moneda para cada flujo de moneda por el total de transacciones dado el registro. El proposito de esta columna es determinar el rate de moneda para cada transaccion segun el historico del flujo de moneda"
   ]
  },
  {
   "cell_type": "code",
   "execution_count": 9,
   "metadata": {},
   "outputs": [],
   "source": [
    "df['avg_amount_transactions'] = df['total_transaction_amount'] / df['total_transactions']"
   ]
  },
  {
   "cell_type": "markdown",
   "metadata": {},
   "source": [
    "* **Tiempo total en horas de duracion transaccional:** Esta columna suma el tiempo total en horas del flujo transaccional. Es decir el tiempo en que los usuarios empezaron la primera transaccion hasta que enviaron la ultima. El proposito de esta columna es entender en las transacciones consecutivas cuando tiempo toma el usuario en ejecutarlas. "
   ]
  },
  {
   "cell_type": "code",
   "execution_count": null,
   "metadata": {},
   "outputs": [],
   "source": [
    "df['total_time_hr'] = ((df['total_transactions'] * df['avg_time_min_between_transactions'])/60).round(2)"
   ]
  },
  {
   "cell_type": "code",
   "execution_count": 10,
   "metadata": {},
   "outputs": [],
   "source": [
    "# Convertir el dataframe de Dask a pandas para visualizar los resultados\n",
    "df_featured = df.compute()"
   ]
  },
  {
   "cell_type": "code",
   "execution_count": 11,
   "metadata": {},
   "outputs": [
    {
     "data": {
      "text/html": [
       "<div>\n",
       "<style scoped>\n",
       "    .dataframe tbody tr th:only-of-type {\n",
       "        vertical-align: middle;\n",
       "    }\n",
       "\n",
       "    .dataframe tbody tr th {\n",
       "        vertical-align: top;\n",
       "    }\n",
       "\n",
       "    .dataframe thead th {\n",
       "        text-align: right;\n",
       "    }\n",
       "</style>\n",
       "<table border=\"1\" class=\"dataframe\">\n",
       "  <thead>\n",
       "    <tr style=\"text-align: right;\">\n",
       "      <th></th>\n",
       "      <th>merchant_id</th>\n",
       "      <th>_id</th>\n",
       "      <th>subsidiary</th>\n",
       "      <th>transaction_date</th>\n",
       "      <th>account_number</th>\n",
       "      <th>user_id</th>\n",
       "      <th>transaction_amount</th>\n",
       "      <th>transaction_type</th>\n",
       "      <th>date</th>\n",
       "      <th>total_transactions</th>\n",
       "      <th>total_transaction_amount</th>\n",
       "      <th>time_diff_minutes</th>\n",
       "      <th>avg_time_min_between_transactions</th>\n",
       "      <th>avg_amount_transactions</th>\n",
       "    </tr>\n",
       "  </thead>\n",
       "  <tbody>\n",
       "    <tr>\n",
       "      <th>16066</th>\n",
       "      <td>838a8fa992a4aa2fb5a0cf8b15b63755</td>\n",
       "      <td>4a101c7ee6f4f8f1fcdbd4bc044c59d8</td>\n",
       "      <td>f54e0b6b32831a6307361ed959903e76</td>\n",
       "      <td>2021-01-01 00:00:40</td>\n",
       "      <td>8fee49f3fedc5590551fcb57a2f58a3e</td>\n",
       "      <td>2fa852d1bd38bbbcf4afd629f4a7c51b</td>\n",
       "      <td>5.944</td>\n",
       "      <td>CREDITO</td>\n",
       "      <td>2021-01-01</td>\n",
       "      <td>1</td>\n",
       "      <td>5.944</td>\n",
       "      <td>0.0</td>\n",
       "      <td>0.0</td>\n",
       "      <td>5.944</td>\n",
       "    </tr>\n",
       "    <tr>\n",
       "      <th>341948</th>\n",
       "      <td>817d18cd3c31e40e9bff0566baae7758</td>\n",
       "      <td>47d6c9460c5c27d63d6e66d23e598695</td>\n",
       "      <td>6f19909d89f3178ea74b3cee1f20af13</td>\n",
       "      <td>2021-01-01 00:01:08</td>\n",
       "      <td>f75a7c37888408308e02fef9086046fe</td>\n",
       "      <td>516c209606ac9f7e870802c90bffbaf8</td>\n",
       "      <td>59.445</td>\n",
       "      <td>DEBITO</td>\n",
       "      <td>2021-01-01</td>\n",
       "      <td>1</td>\n",
       "      <td>59.445</td>\n",
       "      <td>0.0</td>\n",
       "      <td>0.0</td>\n",
       "      <td>59.445</td>\n",
       "    </tr>\n",
       "    <tr>\n",
       "      <th>1097759</th>\n",
       "      <td>817d18cd3c31e40e9bff0566baae7758</td>\n",
       "      <td>8c2df593436163e9cbff2fe3050f0ae1</td>\n",
       "      <td>c1b186a762110afc5d510517b04b6329</td>\n",
       "      <td>2021-01-01 00:01:13</td>\n",
       "      <td>a49b390b90de1454f966c604da9687d3</td>\n",
       "      <td>8c8b5512b0772dc891bef619ecd2acfb</td>\n",
       "      <td>47.556</td>\n",
       "      <td>DEBITO</td>\n",
       "      <td>2021-01-01</td>\n",
       "      <td>1</td>\n",
       "      <td>47.556</td>\n",
       "      <td>0.0</td>\n",
       "      <td>0.0</td>\n",
       "      <td>47.556</td>\n",
       "    </tr>\n",
       "    <tr>\n",
       "      <th>124971</th>\n",
       "      <td>838a8fa992a4aa2fb5a0cf8b15b63755</td>\n",
       "      <td>6ed538998f04c804c299dc9fbc4d6e90</td>\n",
       "      <td>dff70ce33784a932ce4a7efc81a43863</td>\n",
       "      <td>2021-01-01 00:01:17</td>\n",
       "      <td>666e5e749c3ae3dea220e023a51c88f4</td>\n",
       "      <td>d0a25a8f11f7228d912e6874a0544d41</td>\n",
       "      <td>5.944</td>\n",
       "      <td>CREDITO</td>\n",
       "      <td>2021-01-01</td>\n",
       "      <td>1</td>\n",
       "      <td>5.944</td>\n",
       "      <td>0.0</td>\n",
       "      <td>0.0</td>\n",
       "      <td>5.944</td>\n",
       "    </tr>\n",
       "    <tr>\n",
       "      <th>1401278</th>\n",
       "      <td>838a8fa992a4aa2fb5a0cf8b15b63755</td>\n",
       "      <td>8801042a2192cdb8d96074442e5d4e06</td>\n",
       "      <td>d4b31b123120a4eefd51ba95975f2ae4</td>\n",
       "      <td>2021-01-01 00:01:45</td>\n",
       "      <td>c039cca9581596ee863c3c812835bfff</td>\n",
       "      <td>6b6113f0dfead46eb7f0c21ecb78d567</td>\n",
       "      <td>5.944</td>\n",
       "      <td>DEBITO</td>\n",
       "      <td>2021-01-01</td>\n",
       "      <td>1</td>\n",
       "      <td>5.944</td>\n",
       "      <td>0.0</td>\n",
       "      <td>0.0</td>\n",
       "      <td>5.944</td>\n",
       "    </tr>\n",
       "    <tr>\n",
       "      <th>...</th>\n",
       "      <td>...</td>\n",
       "      <td>...</td>\n",
       "      <td>...</td>\n",
       "      <td>...</td>\n",
       "      <td>...</td>\n",
       "      <td>...</td>\n",
       "      <td>...</td>\n",
       "      <td>...</td>\n",
       "      <td>...</td>\n",
       "      <td>...</td>\n",
       "      <td>...</td>\n",
       "      <td>...</td>\n",
       "      <td>...</td>\n",
       "      <td>...</td>\n",
       "    </tr>\n",
       "    <tr>\n",
       "      <th>338846</th>\n",
       "      <td>817d18cd3c31e40e9bff0566baae7758</td>\n",
       "      <td>c6f1be268792b5ac30fc0e83da8c2fb8</td>\n",
       "      <td>60f9b595411bb86522c10ec889b5ebc7</td>\n",
       "      <td>2021-11-30 23:58:47</td>\n",
       "      <td>7e59b57bf93138becb4b99d74575e4d5</td>\n",
       "      <td>0ffc883061b99315768f8834a3398c00</td>\n",
       "      <td>35.667</td>\n",
       "      <td>DEBITO</td>\n",
       "      <td>2021-11-30</td>\n",
       "      <td>1</td>\n",
       "      <td>35.667</td>\n",
       "      <td>0.0</td>\n",
       "      <td>0.0</td>\n",
       "      <td>35.667</td>\n",
       "    </tr>\n",
       "    <tr>\n",
       "      <th>485842</th>\n",
       "      <td>817d18cd3c31e40e9bff0566baae7758</td>\n",
       "      <td>6920e4ed0e5204a6e95feb6d8b435272</td>\n",
       "      <td>6842d61e41574477f3669e27932fbc8b</td>\n",
       "      <td>2021-11-30 23:59:03</td>\n",
       "      <td>135dc1262ecfa0e28ff41e5e0c31b2e7</td>\n",
       "      <td>a016ae88e28e85164a368b1a3d268be7</td>\n",
       "      <td>118.889</td>\n",
       "      <td>DEBITO</td>\n",
       "      <td>2021-11-30</td>\n",
       "      <td>1</td>\n",
       "      <td>118.889</td>\n",
       "      <td>0.0</td>\n",
       "      <td>0.0</td>\n",
       "      <td>118.889</td>\n",
       "    </tr>\n",
       "    <tr>\n",
       "      <th>80710</th>\n",
       "      <td>817d18cd3c31e40e9bff0566baae7758</td>\n",
       "      <td>2872a531e4ce546a996e5590892d3ad1</td>\n",
       "      <td>fcd0f2dad1eae09d05eb002b3f90475d</td>\n",
       "      <td>2021-11-30 23:59:28</td>\n",
       "      <td>8ebb9967f661d5307b8d8d488fdedcba</td>\n",
       "      <td>9e3bc39e3fc648a50cbb084b4dff4baa</td>\n",
       "      <td>59.445</td>\n",
       "      <td>DEBITO</td>\n",
       "      <td>2021-11-30</td>\n",
       "      <td>1</td>\n",
       "      <td>59.445</td>\n",
       "      <td>0.0</td>\n",
       "      <td>0.0</td>\n",
       "      <td>59.445</td>\n",
       "    </tr>\n",
       "    <tr>\n",
       "      <th>9934</th>\n",
       "      <td>817d18cd3c31e40e9bff0566baae7758</td>\n",
       "      <td>ee3498c05fa4125e5f81f97578551f7d</td>\n",
       "      <td>da7597b1cba8873e72008fb0346ddeb0</td>\n",
       "      <td>2021-11-30 23:59:33</td>\n",
       "      <td>618d35c18c10b9a1d89ded6b50994d0e</td>\n",
       "      <td>6bd788bbec96d12e5b6a4454ba3389bd</td>\n",
       "      <td>35.667</td>\n",
       "      <td>DEBITO</td>\n",
       "      <td>2021-11-30</td>\n",
       "      <td>1</td>\n",
       "      <td>35.667</td>\n",
       "      <td>0.0</td>\n",
       "      <td>0.0</td>\n",
       "      <td>35.667</td>\n",
       "    </tr>\n",
       "    <tr>\n",
       "      <th>906278</th>\n",
       "      <td>817d18cd3c31e40e9bff0566baae7758</td>\n",
       "      <td>e12c1a854f1dbcb94bef79c075dcb5a0</td>\n",
       "      <td>69d60b5eb164c68741ee5eed582d9116</td>\n",
       "      <td>2021-11-30 23:59:49</td>\n",
       "      <td>e3019d36634ea27afa4c794de371b6a7</td>\n",
       "      <td>fefe82513b9a98a4b0e2632af0836b8b</td>\n",
       "      <td>59.445</td>\n",
       "      <td>DEBITO</td>\n",
       "      <td>2021-11-30</td>\n",
       "      <td>1</td>\n",
       "      <td>59.445</td>\n",
       "      <td>0.0</td>\n",
       "      <td>0.0</td>\n",
       "      <td>59.445</td>\n",
       "    </tr>\n",
       "  </tbody>\n",
       "</table>\n",
       "<p>21516907 rows × 14 columns</p>\n",
       "</div>"
      ],
      "text/plain": [
       "                              merchant_id                               _id  \\\n",
       "16066    838a8fa992a4aa2fb5a0cf8b15b63755  4a101c7ee6f4f8f1fcdbd4bc044c59d8   \n",
       "341948   817d18cd3c31e40e9bff0566baae7758  47d6c9460c5c27d63d6e66d23e598695   \n",
       "1097759  817d18cd3c31e40e9bff0566baae7758  8c2df593436163e9cbff2fe3050f0ae1   \n",
       "124971   838a8fa992a4aa2fb5a0cf8b15b63755  6ed538998f04c804c299dc9fbc4d6e90   \n",
       "1401278  838a8fa992a4aa2fb5a0cf8b15b63755  8801042a2192cdb8d96074442e5d4e06   \n",
       "...                                   ...                               ...   \n",
       "338846   817d18cd3c31e40e9bff0566baae7758  c6f1be268792b5ac30fc0e83da8c2fb8   \n",
       "485842   817d18cd3c31e40e9bff0566baae7758  6920e4ed0e5204a6e95feb6d8b435272   \n",
       "80710    817d18cd3c31e40e9bff0566baae7758  2872a531e4ce546a996e5590892d3ad1   \n",
       "9934     817d18cd3c31e40e9bff0566baae7758  ee3498c05fa4125e5f81f97578551f7d   \n",
       "906278   817d18cd3c31e40e9bff0566baae7758  e12c1a854f1dbcb94bef79c075dcb5a0   \n",
       "\n",
       "                               subsidiary    transaction_date  \\\n",
       "16066    f54e0b6b32831a6307361ed959903e76 2021-01-01 00:00:40   \n",
       "341948   6f19909d89f3178ea74b3cee1f20af13 2021-01-01 00:01:08   \n",
       "1097759  c1b186a762110afc5d510517b04b6329 2021-01-01 00:01:13   \n",
       "124971   dff70ce33784a932ce4a7efc81a43863 2021-01-01 00:01:17   \n",
       "1401278  d4b31b123120a4eefd51ba95975f2ae4 2021-01-01 00:01:45   \n",
       "...                                   ...                 ...   \n",
       "338846   60f9b595411bb86522c10ec889b5ebc7 2021-11-30 23:58:47   \n",
       "485842   6842d61e41574477f3669e27932fbc8b 2021-11-30 23:59:03   \n",
       "80710    fcd0f2dad1eae09d05eb002b3f90475d 2021-11-30 23:59:28   \n",
       "9934     da7597b1cba8873e72008fb0346ddeb0 2021-11-30 23:59:33   \n",
       "906278   69d60b5eb164c68741ee5eed582d9116 2021-11-30 23:59:49   \n",
       "\n",
       "                           account_number                           user_id  \\\n",
       "16066    8fee49f3fedc5590551fcb57a2f58a3e  2fa852d1bd38bbbcf4afd629f4a7c51b   \n",
       "341948   f75a7c37888408308e02fef9086046fe  516c209606ac9f7e870802c90bffbaf8   \n",
       "1097759  a49b390b90de1454f966c604da9687d3  8c8b5512b0772dc891bef619ecd2acfb   \n",
       "124971   666e5e749c3ae3dea220e023a51c88f4  d0a25a8f11f7228d912e6874a0544d41   \n",
       "1401278  c039cca9581596ee863c3c812835bfff  6b6113f0dfead46eb7f0c21ecb78d567   \n",
       "...                                   ...                               ...   \n",
       "338846   7e59b57bf93138becb4b99d74575e4d5  0ffc883061b99315768f8834a3398c00   \n",
       "485842   135dc1262ecfa0e28ff41e5e0c31b2e7  a016ae88e28e85164a368b1a3d268be7   \n",
       "80710    8ebb9967f661d5307b8d8d488fdedcba  9e3bc39e3fc648a50cbb084b4dff4baa   \n",
       "9934     618d35c18c10b9a1d89ded6b50994d0e  6bd788bbec96d12e5b6a4454ba3389bd   \n",
       "906278   e3019d36634ea27afa4c794de371b6a7  fefe82513b9a98a4b0e2632af0836b8b   \n",
       "\n",
       "         transaction_amount transaction_type       date  total_transactions  \\\n",
       "16066                 5.944          CREDITO 2021-01-01                   1   \n",
       "341948               59.445           DEBITO 2021-01-01                   1   \n",
       "1097759              47.556           DEBITO 2021-01-01                   1   \n",
       "124971                5.944          CREDITO 2021-01-01                   1   \n",
       "1401278               5.944           DEBITO 2021-01-01                   1   \n",
       "...                     ...              ...        ...                 ...   \n",
       "338846               35.667           DEBITO 2021-11-30                   1   \n",
       "485842              118.889           DEBITO 2021-11-30                   1   \n",
       "80710                59.445           DEBITO 2021-11-30                   1   \n",
       "9934                 35.667           DEBITO 2021-11-30                   1   \n",
       "906278               59.445           DEBITO 2021-11-30                   1   \n",
       "\n",
       "         total_transaction_amount  time_diff_minutes  \\\n",
       "16066                       5.944                0.0   \n",
       "341948                     59.445                0.0   \n",
       "1097759                    47.556                0.0   \n",
       "124971                      5.944                0.0   \n",
       "1401278                     5.944                0.0   \n",
       "...                           ...                ...   \n",
       "338846                     35.667                0.0   \n",
       "485842                    118.889                0.0   \n",
       "80710                      59.445                0.0   \n",
       "9934                       35.667                0.0   \n",
       "906278                     59.445                0.0   \n",
       "\n",
       "         avg_time_min_between_transactions  avg_amount_transactions  \n",
       "16066                                  0.0                    5.944  \n",
       "341948                                 0.0                   59.445  \n",
       "1097759                                0.0                   47.556  \n",
       "124971                                 0.0                    5.944  \n",
       "1401278                                0.0                    5.944  \n",
       "...                                    ...                      ...  \n",
       "338846                                 0.0                   35.667  \n",
       "485842                                 0.0                  118.889  \n",
       "80710                                  0.0                   59.445  \n",
       "9934                                   0.0                   35.667  \n",
       "906278                                 0.0                   59.445  \n",
       "\n",
       "[21516907 rows x 14 columns]"
      ]
     },
     "execution_count": 11,
     "metadata": {},
     "output_type": "execute_result"
    }
   ],
   "source": [
    "df_featured"
   ]
  },
  {
   "cell_type": "markdown",
   "metadata": {},
   "source": [
    "# Output feature Engineering"
   ]
  },
  {
   "cell_type": "markdown",
   "metadata": {},
   "source": [
    "Decido guardar el archivo .parquet con el feauture engineering para usarlo en el futuro sin necesidad de correr todo el proceso dada las limitaciones de computo."
   ]
  },
  {
   "cell_type": "code",
   "execution_count": 12,
   "metadata": {},
   "outputs": [],
   "source": [
    "# Guardar el DataFrame procesado en formato Parquet\n",
    "df_featured.to_parquet('day_featured_data_0002.parquet')"
   ]
  }
 ],
 "metadata": {
  "kernelspec": {
   "display_name": "nequi_code",
   "language": "python",
   "name": "python3"
  },
  "language_info": {
   "codemirror_mode": {
    "name": "ipython",
    "version": 3
   },
   "file_extension": ".py",
   "mimetype": "text/x-python",
   "name": "python",
   "nbconvert_exporter": "python",
   "pygments_lexer": "ipython3",
   "version": "3.9.13"
  },
  "orig_nbformat": 4
 },
 "nbformat": 4,
 "nbformat_minor": 2
}
