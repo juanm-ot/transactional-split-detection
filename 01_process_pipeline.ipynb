{
 "cells": [
  {
   "cell_type": "markdown",
   "metadata": {},
   "source": [
    "# Pipeline de procesamiento"
   ]
  },
  {
   "cell_type": "markdown",
   "metadata": {},
   "source": [
    "### Importar librerias"
   ]
  },
  {
   "cell_type": "code",
   "execution_count": 1,
   "metadata": {},
   "outputs": [],
   "source": [
    "import pandas as pd\n",
    "import dask.dataframe as dd"
   ]
  },
  {
   "cell_type": "markdown",
   "metadata": {},
   "source": [
    "### Cargar la data"
   ]
  },
  {
   "cell_type": "markdown",
   "metadata": {},
   "source": [
    "Si bien el formato del archivo ```.parquet``` hace referencia a una forma de almacenar de manera optima grandes volumenes de datos de manera eficiente y comprimida. Sin embargo, en ciertos escenarios, como cuando se trabaja con un volumen de datos relativamente pequeño y en un solo computador, su uso puede generar un tiempo de carga y procesamiento innecesariamente prolongado. <br>\n",
    "\n",
    "Para el desarrollo de esta prueba, se optó por Dask para cargar los archivos de manera distribuida ademas del procesamiento en un solo nodo y Pandas para la visualizacion de la data. Esta combinación permitió un enfoque más ágil y eficiente para el procesamiento de 20 millones de datos, aprovechando la capacidad de paralelismo de Dask y la versatilidad de Pandas para operaciones de análisis y visualizacion. "
   ]
  },
  {
   "cell_type": "code",
   "execution_count": 2,
   "metadata": {},
   "outputs": [],
   "source": [
    "route1 = 'sample_data_0006_part_00.parquet'\n",
    "route2 = 'sample_data_0007_part_00.parquet'\n",
    "\n",
    "df_0006 = dd.read_parquet(route1)\n",
    "df_0007 = dd.read_parquet(route2)\n",
    "df = dd.concat([df_0006, df_0007], ignore_index=True)\n",
    "df = df.compute()"
   ]
  },
  {
   "cell_type": "code",
   "execution_count": 8,
   "metadata": {},
   "outputs": [
    {
     "data": {
      "text/html": [
       "<div>\n",
       "<style scoped>\n",
       "    .dataframe tbody tr th:only-of-type {\n",
       "        vertical-align: middle;\n",
       "    }\n",
       "\n",
       "    .dataframe tbody tr th {\n",
       "        vertical-align: top;\n",
       "    }\n",
       "\n",
       "    .dataframe thead th {\n",
       "        text-align: right;\n",
       "    }\n",
       "</style>\n",
       "<table border=\"1\" class=\"dataframe\">\n",
       "  <thead>\n",
       "    <tr style=\"text-align: right;\">\n",
       "      <th></th>\n",
       "      <th>merchant_id</th>\n",
       "      <th>_id</th>\n",
       "      <th>subsidiary</th>\n",
       "      <th>transaction_date</th>\n",
       "      <th>account_number</th>\n",
       "      <th>user_id</th>\n",
       "      <th>transaction_amount</th>\n",
       "      <th>transaction_type</th>\n",
       "    </tr>\n",
       "  </thead>\n",
       "  <tbody>\n",
       "    <tr>\n",
       "      <th>0</th>\n",
       "      <td>075d178871d8d48502bf1f54887e52fe</td>\n",
       "      <td>aa8dacff663072244d0a8ab6bbe36b93</td>\n",
       "      <td>824b2af470cbe6a65b15650e03b740fc</td>\n",
       "      <td>2021-09-12 18:32:03</td>\n",
       "      <td>648e257c9d74909a1f61c54b93a9e1b3</td>\n",
       "      <td>ba42d192a145583ba8e7bf04875f837f</td>\n",
       "      <td>178.33365037</td>\n",
       "      <td>CREDITO</td>\n",
       "    </tr>\n",
       "    <tr>\n",
       "      <th>1</th>\n",
       "      <td>075d178871d8d48502bf1f54887e52fe</td>\n",
       "      <td>a53bb81bd0bba2ae2535bda7ea5a550c</td>\n",
       "      <td>2d8d34be7509a6b1262336d036fdb324</td>\n",
       "      <td>2021-09-12 18:31:58</td>\n",
       "      <td>c0b62f9046c83ea5543ea46a497a4d6e</td>\n",
       "      <td>5cfff960ea6d732c1ba3e63d24f3be52</td>\n",
       "      <td>35.66673007</td>\n",
       "      <td>CREDITO</td>\n",
       "    </tr>\n",
       "    <tr>\n",
       "      <th>2</th>\n",
       "      <td>075d178871d8d48502bf1f54887e52fe</td>\n",
       "      <td>79f893ea65c06fe2933f3847c88c272f</td>\n",
       "      <td>5eeb18254850b21af0a6bb2697913cd3</td>\n",
       "      <td>2021-09-12 18:31:56</td>\n",
       "      <td>872d10143fc0ac7d5de467806f6bef81</td>\n",
       "      <td>c97e63a92c82c7217b333635d75928ed</td>\n",
       "      <td>142.66692029</td>\n",
       "      <td>CREDITO</td>\n",
       "    </tr>\n",
       "    <tr>\n",
       "      <th>3</th>\n",
       "      <td>075d178871d8d48502bf1f54887e52fe</td>\n",
       "      <td>ce577223699dbdc119df2ab8a35457fe</td>\n",
       "      <td>5221a599856c0a0588ed9ffd150edd3b</td>\n",
       "      <td>2021-09-12 18:31:10</td>\n",
       "      <td>2e35cfe7860a480a93e1c83e99843579</td>\n",
       "      <td>fc09bdd00f283222d65eaff4d00a6594</td>\n",
       "      <td>8.32223701</td>\n",
       "      <td>CREDITO</td>\n",
       "    </tr>\n",
       "    <tr>\n",
       "      <th>4</th>\n",
       "      <td>075d178871d8d48502bf1f54887e52fe</td>\n",
       "      <td>0ce7ab2950e7a788a608f881aec0f8f0</td>\n",
       "      <td>971e55ef12d80ec070ea4f6750c8b892</td>\n",
       "      <td>2021-09-12 18:31:07</td>\n",
       "      <td>995bc89e4c4e00334f1f90c4a55f4729</td>\n",
       "      <td>213527e8ba94fcaf2f9378969f9f6abc</td>\n",
       "      <td>32.10005706</td>\n",
       "      <td>CREDITO</td>\n",
       "    </tr>\n",
       "  </tbody>\n",
       "</table>\n",
       "</div>"
      ],
      "text/plain": [
       "                        merchant_id                               _id  \\\n",
       "0  075d178871d8d48502bf1f54887e52fe  aa8dacff663072244d0a8ab6bbe36b93   \n",
       "1  075d178871d8d48502bf1f54887e52fe  a53bb81bd0bba2ae2535bda7ea5a550c   \n",
       "2  075d178871d8d48502bf1f54887e52fe  79f893ea65c06fe2933f3847c88c272f   \n",
       "3  075d178871d8d48502bf1f54887e52fe  ce577223699dbdc119df2ab8a35457fe   \n",
       "4  075d178871d8d48502bf1f54887e52fe  0ce7ab2950e7a788a608f881aec0f8f0   \n",
       "\n",
       "                         subsidiary    transaction_date  \\\n",
       "0  824b2af470cbe6a65b15650e03b740fc 2021-09-12 18:32:03   \n",
       "1  2d8d34be7509a6b1262336d036fdb324 2021-09-12 18:31:58   \n",
       "2  5eeb18254850b21af0a6bb2697913cd3 2021-09-12 18:31:56   \n",
       "3  5221a599856c0a0588ed9ffd150edd3b 2021-09-12 18:31:10   \n",
       "4  971e55ef12d80ec070ea4f6750c8b892 2021-09-12 18:31:07   \n",
       "\n",
       "                     account_number                           user_id  \\\n",
       "0  648e257c9d74909a1f61c54b93a9e1b3  ba42d192a145583ba8e7bf04875f837f   \n",
       "1  c0b62f9046c83ea5543ea46a497a4d6e  5cfff960ea6d732c1ba3e63d24f3be52   \n",
       "2  872d10143fc0ac7d5de467806f6bef81  c97e63a92c82c7217b333635d75928ed   \n",
       "3  2e35cfe7860a480a93e1c83e99843579  fc09bdd00f283222d65eaff4d00a6594   \n",
       "4  995bc89e4c4e00334f1f90c4a55f4729  213527e8ba94fcaf2f9378969f9f6abc   \n",
       "\n",
       "  transaction_amount transaction_type  \n",
       "0       178.33365037          CREDITO  \n",
       "1        35.66673007          CREDITO  \n",
       "2       142.66692029          CREDITO  \n",
       "3         8.32223701          CREDITO  \n",
       "4        32.10005706          CREDITO  "
      ]
     },
     "execution_count": 8,
     "metadata": {},
     "output_type": "execute_result"
    }
   ],
   "source": [
    "df.head()"
   ]
  },
  {
   "cell_type": "markdown",
   "metadata": {},
   "source": [
    "### Evaluación de calidad de datos"
   ]
  },
  {
   "cell_type": "markdown",
   "metadata": {},
   "source": [
    "Se evalúa la calidad de los datos en función de un framework basico de dimensiones de calidad de datos para determinar las instancias de operación durante el procesamiento y las transformación. Lo primero es hacer una revision de **la unicidad** y **la completitud**, comprobando si existen valores duplicados y valores nulos, respectivamente. "
   ]
  },
  {
   "cell_type": "code",
   "execution_count": 9,
   "metadata": {},
   "outputs": [
    {
     "name": "stdout",
     "output_type": "stream",
     "text": [
      "El conjunto de datos tiene 11 registros duplicados\n"
     ]
    }
   ],
   "source": [
    "total_duplicates = df.duplicated().sum()\n",
    "print(f\"El conjunto de datos tiene {total_duplicates} registros duplicados\")"
   ]
  },
  {
   "cell_type": "code",
   "execution_count": 10,
   "metadata": {},
   "outputs": [
    {
     "name": "stdout",
     "output_type": "stream",
     "text": [
      "¿El dataset tiene valores nulos? False\n"
     ]
    }
   ],
   "source": [
    "have_nulls= df.isnull().any().any()\n",
    "print(f\"¿El dataset tiene valores nulos? {have_nulls}\")"
   ]
  },
  {
   "cell_type": "markdown",
   "metadata": {},
   "source": [
    "En segunda instancia se revisa **la consistencia**. Como los datos deben tener uniformidad y coherencia se realiza una evaluación en términos de formato, unidades y valores, para esta etapa se revisa el diccionario de datos y se contrasta la información con el dataframe. "
   ]
  },
  {
   "cell_type": "code",
   "execution_count": 11,
   "metadata": {},
   "outputs": [
    {
     "name": "stdout",
     "output_type": "stream",
     "text": [
      "<class 'pandas.core.frame.DataFrame'>\n",
      "Index: 21516918 entries, 0 to 831362\n",
      "Data columns (total 8 columns):\n",
      " #   Column              Dtype         \n",
      "---  ------              -----         \n",
      " 0   merchant_id         string        \n",
      " 1   _id                 string        \n",
      " 2   subsidiary          string        \n",
      " 3   transaction_date    datetime64[ns]\n",
      " 4   account_number      string        \n",
      " 5   user_id             string        \n",
      " 6   transaction_amount  string        \n",
      " 7   transaction_type    string        \n",
      "dtypes: datetime64[ns](1), string(7)\n",
      "memory usage: 4.4 GB\n"
     ]
    }
   ],
   "source": [
    "df.info()"
   ]
  },
  {
   "cell_type": "markdown",
   "metadata": {},
   "source": [
    "Como la información esta codificada con carcateres alfanúmericos es coherente el formato string en la mayoria de las columnas. Sin embargo, la columna ```transaction_amount``` que representa la moneda ficticia debe tener un formato numerico para realizar operaciones futuras. En este escenario se decide cambiar este dato de string a float"
   ]
  },
  {
   "cell_type": "markdown",
   "metadata": {},
   "source": [
    "Finalmente se evalúa **la validez** de los datos, es decir, que los datos esten dentro de los limites establecidos en función de las definiciones expuestas en el diccionario de datos"
   ]
  },
  {
   "cell_type": "code",
   "execution_count": 9,
   "metadata": {},
   "outputs": [
    {
     "name": "stdout",
     "output_type": "stream",
     "text": [
      " El rango de transacciones esta entre 2021-01-01 00:00:40 y 2021-11-30 23:59:49\n"
     ]
    }
   ],
   "source": [
    "max_transaction_date = df['transaction_date'].max()\n",
    "min_transaction_date = df['transaction_date'].min()\n",
    "\n",
    "print(f\" El rango de transacciones esta entre {min_transaction_date} y {max_transaction_date}\")"
   ]
  },
  {
   "cell_type": "markdown",
   "metadata": {},
   "source": [
    "### Transformación de la data"
   ]
  },
  {
   "cell_type": "code",
   "execution_count": 4,
   "metadata": {},
   "outputs": [],
   "source": [
    "def string_to_float(column_name):\n",
    "\n",
    "    df[column_name] = df[column_name].astype(float).round(3)\n",
    "    return df"
   ]
  },
  {
   "cell_type": "code",
   "execution_count": null,
   "metadata": {},
   "outputs": [],
   "source": [
    "# Eliminar registros duplicados\n",
    "df = df.drop_duplicates()\n",
    "# Conversion de tipo de datos\n",
    "df = string_to_float('transaction_amount')\n",
    "\n",
    "# Se crea una columna a partir de la extracción de la fecha desde transaction_date\n",
    "df.loc[:, 'date'] = df['transaction_date'].dt.date\n",
    "df['date'] = pd.to_datetime(df['date'])\n",
    "\n",
    "# Ordenar los datos por fecha\n",
    "df = df.sort_values('transaction_date')"
   ]
  },
  {
   "cell_type": "code",
   "execution_count": 12,
   "metadata": {},
   "outputs": [
    {
     "data": {
      "text/html": [
       "<div>\n",
       "<style scoped>\n",
       "    .dataframe tbody tr th:only-of-type {\n",
       "        vertical-align: middle;\n",
       "    }\n",
       "\n",
       "    .dataframe tbody tr th {\n",
       "        vertical-align: top;\n",
       "    }\n",
       "\n",
       "    .dataframe thead th {\n",
       "        text-align: right;\n",
       "    }\n",
       "</style>\n",
       "<table border=\"1\" class=\"dataframe\">\n",
       "  <thead>\n",
       "    <tr style=\"text-align: right;\">\n",
       "      <th></th>\n",
       "      <th>merchant_id</th>\n",
       "      <th>_id</th>\n",
       "      <th>subsidiary</th>\n",
       "      <th>transaction_date</th>\n",
       "      <th>account_number</th>\n",
       "      <th>user_id</th>\n",
       "      <th>transaction_amount</th>\n",
       "      <th>transaction_type</th>\n",
       "      <th>date</th>\n",
       "    </tr>\n",
       "  </thead>\n",
       "  <tbody>\n",
       "    <tr>\n",
       "      <th>16066</th>\n",
       "      <td>838a8fa992a4aa2fb5a0cf8b15b63755</td>\n",
       "      <td>4a101c7ee6f4f8f1fcdbd4bc044c59d8</td>\n",
       "      <td>f54e0b6b32831a6307361ed959903e76</td>\n",
       "      <td>2021-01-01 00:00:40</td>\n",
       "      <td>8fee49f3fedc5590551fcb57a2f58a3e</td>\n",
       "      <td>2fa852d1bd38bbbcf4afd629f4a7c51b</td>\n",
       "      <td>5.944</td>\n",
       "      <td>CREDITO</td>\n",
       "      <td>2021-01-01</td>\n",
       "    </tr>\n",
       "    <tr>\n",
       "      <th>341948</th>\n",
       "      <td>817d18cd3c31e40e9bff0566baae7758</td>\n",
       "      <td>47d6c9460c5c27d63d6e66d23e598695</td>\n",
       "      <td>6f19909d89f3178ea74b3cee1f20af13</td>\n",
       "      <td>2021-01-01 00:01:08</td>\n",
       "      <td>f75a7c37888408308e02fef9086046fe</td>\n",
       "      <td>516c209606ac9f7e870802c90bffbaf8</td>\n",
       "      <td>59.445</td>\n",
       "      <td>DEBITO</td>\n",
       "      <td>2021-01-01</td>\n",
       "    </tr>\n",
       "    <tr>\n",
       "      <th>1097759</th>\n",
       "      <td>817d18cd3c31e40e9bff0566baae7758</td>\n",
       "      <td>8c2df593436163e9cbff2fe3050f0ae1</td>\n",
       "      <td>c1b186a762110afc5d510517b04b6329</td>\n",
       "      <td>2021-01-01 00:01:13</td>\n",
       "      <td>a49b390b90de1454f966c604da9687d3</td>\n",
       "      <td>8c8b5512b0772dc891bef619ecd2acfb</td>\n",
       "      <td>47.556</td>\n",
       "      <td>DEBITO</td>\n",
       "      <td>2021-01-01</td>\n",
       "    </tr>\n",
       "    <tr>\n",
       "      <th>124971</th>\n",
       "      <td>838a8fa992a4aa2fb5a0cf8b15b63755</td>\n",
       "      <td>6ed538998f04c804c299dc9fbc4d6e90</td>\n",
       "      <td>dff70ce33784a932ce4a7efc81a43863</td>\n",
       "      <td>2021-01-01 00:01:17</td>\n",
       "      <td>666e5e749c3ae3dea220e023a51c88f4</td>\n",
       "      <td>d0a25a8f11f7228d912e6874a0544d41</td>\n",
       "      <td>5.944</td>\n",
       "      <td>CREDITO</td>\n",
       "      <td>2021-01-01</td>\n",
       "    </tr>\n",
       "    <tr>\n",
       "      <th>1401278</th>\n",
       "      <td>838a8fa992a4aa2fb5a0cf8b15b63755</td>\n",
       "      <td>8801042a2192cdb8d96074442e5d4e06</td>\n",
       "      <td>d4b31b123120a4eefd51ba95975f2ae4</td>\n",
       "      <td>2021-01-01 00:01:45</td>\n",
       "      <td>c039cca9581596ee863c3c812835bfff</td>\n",
       "      <td>6b6113f0dfead46eb7f0c21ecb78d567</td>\n",
       "      <td>5.944</td>\n",
       "      <td>DEBITO</td>\n",
       "      <td>2021-01-01</td>\n",
       "    </tr>\n",
       "  </tbody>\n",
       "</table>\n",
       "</div>"
      ],
      "text/plain": [
       "                              merchant_id                               _id  \\\n",
       "16066    838a8fa992a4aa2fb5a0cf8b15b63755  4a101c7ee6f4f8f1fcdbd4bc044c59d8   \n",
       "341948   817d18cd3c31e40e9bff0566baae7758  47d6c9460c5c27d63d6e66d23e598695   \n",
       "1097759  817d18cd3c31e40e9bff0566baae7758  8c2df593436163e9cbff2fe3050f0ae1   \n",
       "124971   838a8fa992a4aa2fb5a0cf8b15b63755  6ed538998f04c804c299dc9fbc4d6e90   \n",
       "1401278  838a8fa992a4aa2fb5a0cf8b15b63755  8801042a2192cdb8d96074442e5d4e06   \n",
       "\n",
       "                               subsidiary    transaction_date  \\\n",
       "16066    f54e0b6b32831a6307361ed959903e76 2021-01-01 00:00:40   \n",
       "341948   6f19909d89f3178ea74b3cee1f20af13 2021-01-01 00:01:08   \n",
       "1097759  c1b186a762110afc5d510517b04b6329 2021-01-01 00:01:13   \n",
       "124971   dff70ce33784a932ce4a7efc81a43863 2021-01-01 00:01:17   \n",
       "1401278  d4b31b123120a4eefd51ba95975f2ae4 2021-01-01 00:01:45   \n",
       "\n",
       "                           account_number                           user_id  \\\n",
       "16066    8fee49f3fedc5590551fcb57a2f58a3e  2fa852d1bd38bbbcf4afd629f4a7c51b   \n",
       "341948   f75a7c37888408308e02fef9086046fe  516c209606ac9f7e870802c90bffbaf8   \n",
       "1097759  a49b390b90de1454f966c604da9687d3  8c8b5512b0772dc891bef619ecd2acfb   \n",
       "124971   666e5e749c3ae3dea220e023a51c88f4  d0a25a8f11f7228d912e6874a0544d41   \n",
       "1401278  c039cca9581596ee863c3c812835bfff  6b6113f0dfead46eb7f0c21ecb78d567   \n",
       "\n",
       "         transaction_amount transaction_type       date  \n",
       "16066                 5.944          CREDITO 2021-01-01  \n",
       "341948               59.445           DEBITO 2021-01-01  \n",
       "1097759              47.556           DEBITO 2021-01-01  \n",
       "124971                5.944          CREDITO 2021-01-01  \n",
       "1401278               5.944           DEBITO 2021-01-01  "
      ]
     },
     "execution_count": 12,
     "metadata": {},
     "output_type": "execute_result"
    }
   ],
   "source": [
    "df.head()"
   ]
  },
  {
   "cell_type": "code",
   "execution_count": 13,
   "metadata": {},
   "outputs": [
    {
     "name": "stdout",
     "output_type": "stream",
     "text": [
      "<class 'pandas.core.frame.DataFrame'>\n",
      "Index: 21516907 entries, 16066 to 906278\n",
      "Data columns (total 9 columns):\n",
      " #   Column              Dtype         \n",
      "---  ------              -----         \n",
      " 0   merchant_id         string        \n",
      " 1   _id                 string        \n",
      " 2   subsidiary          string        \n",
      " 3   transaction_date    datetime64[ns]\n",
      " 4   account_number      string        \n",
      " 5   user_id             string        \n",
      " 6   transaction_amount  float64       \n",
      " 7   transaction_type    string        \n",
      " 8   date                datetime64[ns]\n",
      "dtypes: datetime64[ns](2), float64(1), string(6)\n",
      "memory usage: 4.5 GB\n"
     ]
    }
   ],
   "source": [
    "# Verificación del cambio en el tipo de datos\n",
    "df.info()"
   ]
  },
  {
   "cell_type": "markdown",
   "metadata": {},
   "source": [
    "# Output Pipeline de procesamiento"
   ]
  },
  {
   "cell_type": "markdown",
   "metadata": {},
   "source": [
    "Decido guardar el archivo .parquet con el process pipeline para usarlo en el futuro sin necesidad de correr todo el proceso dada las limitaciones de computo. "
   ]
  },
  {
   "cell_type": "code",
   "execution_count": 14,
   "metadata": {},
   "outputs": [],
   "source": [
    "# Guardar el DataFrame procesado en formato Parquet\n",
    "df.to_parquet('processing_data_0001_dummie.parquet')"
   ]
  },
  {
   "cell_type": "code",
   "execution_count": 15,
   "metadata": {},
   "outputs": [
    {
     "data": {
      "text/html": [
       "<div>\n",
       "<style scoped>\n",
       "    .dataframe tbody tr th:only-of-type {\n",
       "        vertical-align: middle;\n",
       "    }\n",
       "\n",
       "    .dataframe tbody tr th {\n",
       "        vertical-align: top;\n",
       "    }\n",
       "\n",
       "    .dataframe thead th {\n",
       "        text-align: right;\n",
       "    }\n",
       "</style>\n",
       "<table border=\"1\" class=\"dataframe\">\n",
       "  <thead>\n",
       "    <tr style=\"text-align: right;\">\n",
       "      <th></th>\n",
       "      <th>merchant_id</th>\n",
       "      <th>_id</th>\n",
       "      <th>subsidiary</th>\n",
       "      <th>transaction_date</th>\n",
       "      <th>account_number</th>\n",
       "      <th>user_id</th>\n",
       "      <th>transaction_amount</th>\n",
       "      <th>transaction_type</th>\n",
       "      <th>date</th>\n",
       "    </tr>\n",
       "  </thead>\n",
       "  <tbody>\n",
       "    <tr>\n",
       "      <th>16066</th>\n",
       "      <td>838a8fa992a4aa2fb5a0cf8b15b63755</td>\n",
       "      <td>4a101c7ee6f4f8f1fcdbd4bc044c59d8</td>\n",
       "      <td>f54e0b6b32831a6307361ed959903e76</td>\n",
       "      <td>2021-01-01 00:00:40</td>\n",
       "      <td>8fee49f3fedc5590551fcb57a2f58a3e</td>\n",
       "      <td>2fa852d1bd38bbbcf4afd629f4a7c51b</td>\n",
       "      <td>5.944</td>\n",
       "      <td>CREDITO</td>\n",
       "      <td>2021-01-01</td>\n",
       "    </tr>\n",
       "    <tr>\n",
       "      <th>341948</th>\n",
       "      <td>817d18cd3c31e40e9bff0566baae7758</td>\n",
       "      <td>47d6c9460c5c27d63d6e66d23e598695</td>\n",
       "      <td>6f19909d89f3178ea74b3cee1f20af13</td>\n",
       "      <td>2021-01-01 00:01:08</td>\n",
       "      <td>f75a7c37888408308e02fef9086046fe</td>\n",
       "      <td>516c209606ac9f7e870802c90bffbaf8</td>\n",
       "      <td>59.445</td>\n",
       "      <td>DEBITO</td>\n",
       "      <td>2021-01-01</td>\n",
       "    </tr>\n",
       "    <tr>\n",
       "      <th>1097759</th>\n",
       "      <td>817d18cd3c31e40e9bff0566baae7758</td>\n",
       "      <td>8c2df593436163e9cbff2fe3050f0ae1</td>\n",
       "      <td>c1b186a762110afc5d510517b04b6329</td>\n",
       "      <td>2021-01-01 00:01:13</td>\n",
       "      <td>a49b390b90de1454f966c604da9687d3</td>\n",
       "      <td>8c8b5512b0772dc891bef619ecd2acfb</td>\n",
       "      <td>47.556</td>\n",
       "      <td>DEBITO</td>\n",
       "      <td>2021-01-01</td>\n",
       "    </tr>\n",
       "    <tr>\n",
       "      <th>124971</th>\n",
       "      <td>838a8fa992a4aa2fb5a0cf8b15b63755</td>\n",
       "      <td>6ed538998f04c804c299dc9fbc4d6e90</td>\n",
       "      <td>dff70ce33784a932ce4a7efc81a43863</td>\n",
       "      <td>2021-01-01 00:01:17</td>\n",
       "      <td>666e5e749c3ae3dea220e023a51c88f4</td>\n",
       "      <td>d0a25a8f11f7228d912e6874a0544d41</td>\n",
       "      <td>5.944</td>\n",
       "      <td>CREDITO</td>\n",
       "      <td>2021-01-01</td>\n",
       "    </tr>\n",
       "    <tr>\n",
       "      <th>1401278</th>\n",
       "      <td>838a8fa992a4aa2fb5a0cf8b15b63755</td>\n",
       "      <td>8801042a2192cdb8d96074442e5d4e06</td>\n",
       "      <td>d4b31b123120a4eefd51ba95975f2ae4</td>\n",
       "      <td>2021-01-01 00:01:45</td>\n",
       "      <td>c039cca9581596ee863c3c812835bfff</td>\n",
       "      <td>6b6113f0dfead46eb7f0c21ecb78d567</td>\n",
       "      <td>5.944</td>\n",
       "      <td>DEBITO</td>\n",
       "      <td>2021-01-01</td>\n",
       "    </tr>\n",
       "  </tbody>\n",
       "</table>\n",
       "</div>"
      ],
      "text/plain": [
       "                              merchant_id                               _id  \\\n",
       "16066    838a8fa992a4aa2fb5a0cf8b15b63755  4a101c7ee6f4f8f1fcdbd4bc044c59d8   \n",
       "341948   817d18cd3c31e40e9bff0566baae7758  47d6c9460c5c27d63d6e66d23e598695   \n",
       "1097759  817d18cd3c31e40e9bff0566baae7758  8c2df593436163e9cbff2fe3050f0ae1   \n",
       "124971   838a8fa992a4aa2fb5a0cf8b15b63755  6ed538998f04c804c299dc9fbc4d6e90   \n",
       "1401278  838a8fa992a4aa2fb5a0cf8b15b63755  8801042a2192cdb8d96074442e5d4e06   \n",
       "\n",
       "                               subsidiary    transaction_date  \\\n",
       "16066    f54e0b6b32831a6307361ed959903e76 2021-01-01 00:00:40   \n",
       "341948   6f19909d89f3178ea74b3cee1f20af13 2021-01-01 00:01:08   \n",
       "1097759  c1b186a762110afc5d510517b04b6329 2021-01-01 00:01:13   \n",
       "124971   dff70ce33784a932ce4a7efc81a43863 2021-01-01 00:01:17   \n",
       "1401278  d4b31b123120a4eefd51ba95975f2ae4 2021-01-01 00:01:45   \n",
       "\n",
       "                           account_number                           user_id  \\\n",
       "16066    8fee49f3fedc5590551fcb57a2f58a3e  2fa852d1bd38bbbcf4afd629f4a7c51b   \n",
       "341948   f75a7c37888408308e02fef9086046fe  516c209606ac9f7e870802c90bffbaf8   \n",
       "1097759  a49b390b90de1454f966c604da9687d3  8c8b5512b0772dc891bef619ecd2acfb   \n",
       "124971   666e5e749c3ae3dea220e023a51c88f4  d0a25a8f11f7228d912e6874a0544d41   \n",
       "1401278  c039cca9581596ee863c3c812835bfff  6b6113f0dfead46eb7f0c21ecb78d567   \n",
       "\n",
       "         transaction_amount transaction_type       date  \n",
       "16066                 5.944          CREDITO 2021-01-01  \n",
       "341948               59.445           DEBITO 2021-01-01  \n",
       "1097759              47.556           DEBITO 2021-01-01  \n",
       "124971                5.944          CREDITO 2021-01-01  \n",
       "1401278               5.944           DEBITO 2021-01-01  "
      ]
     },
     "execution_count": 15,
     "metadata": {},
     "output_type": "execute_result"
    }
   ],
   "source": [
    "df.head()"
   ]
  },
  {
   "cell_type": "markdown",
   "metadata": {},
   "source": [
    "He creado un set de datos filtrado por los meses enero y febrero para testear los procesos. Esto me servira a mi de soporte para pruebas unitarias con las transformaciones o analisis futuros. "
   ]
  },
  {
   "cell_type": "code",
   "execution_count": 6,
   "metadata": {},
   "outputs": [],
   "source": [
    "df_may = df[df['date'].dt.month.isin([5])]\n",
    "\n",
    "# Guardar el DataFrame procesado en formato Parquet\n",
    "df_may.to_parquet('processing_data_0003_may.parquet')"
   ]
  },
  {
   "cell_type": "code",
   "execution_count": 9,
   "metadata": {},
   "outputs": [
    {
     "data": {
      "text/html": [
       "<div>\n",
       "<style scoped>\n",
       "    .dataframe tbody tr th:only-of-type {\n",
       "        vertical-align: middle;\n",
       "    }\n",
       "\n",
       "    .dataframe tbody tr th {\n",
       "        vertical-align: top;\n",
       "    }\n",
       "\n",
       "    .dataframe thead th {\n",
       "        text-align: right;\n",
       "    }\n",
       "</style>\n",
       "<table border=\"1\" class=\"dataframe\">\n",
       "  <thead>\n",
       "    <tr style=\"text-align: right;\">\n",
       "      <th></th>\n",
       "      <th>merchant_id</th>\n",
       "      <th>_id</th>\n",
       "      <th>subsidiary</th>\n",
       "      <th>transaction_date</th>\n",
       "      <th>account_number</th>\n",
       "      <th>user_id</th>\n",
       "      <th>transaction_amount</th>\n",
       "      <th>transaction_type</th>\n",
       "      <th>date</th>\n",
       "    </tr>\n",
       "  </thead>\n",
       "  <tbody>\n",
       "    <tr>\n",
       "      <th>1308460</th>\n",
       "      <td>817d18cd3c31e40e9bff0566baae7758</td>\n",
       "      <td>cccd4e8518a582b39ce1cffe44edc8af</td>\n",
       "      <td>96276bee7fbbf1ca462f3d47764d377a</td>\n",
       "      <td>2021-05-01 00:01:21</td>\n",
       "      <td>8bec2d575c1e33c74f92dd0a09501702</td>\n",
       "      <td>1dbae7a18837ce218aae142cc83c23a2</td>\n",
       "      <td>59.445</td>\n",
       "      <td>DEBITO</td>\n",
       "      <td>2021-05-01</td>\n",
       "    </tr>\n",
       "    <tr>\n",
       "      <th>1106433</th>\n",
       "      <td>817d18cd3c31e40e9bff0566baae7758</td>\n",
       "      <td>b24404b20feb753d1f5bd8f2011c3d27</td>\n",
       "      <td>4ba2bf9dfd5681f4f0da17ca275aa023</td>\n",
       "      <td>2021-05-01 00:01:29</td>\n",
       "      <td>3d9a19bd785dda7ba7dfdb8221a0e562</td>\n",
       "      <td>5e9f571ca5c463c40116da034975b60b</td>\n",
       "      <td>59.445</td>\n",
       "      <td>DEBITO</td>\n",
       "      <td>2021-05-01</td>\n",
       "    </tr>\n",
       "    <tr>\n",
       "      <th>1637920</th>\n",
       "      <td>817d18cd3c31e40e9bff0566baae7758</td>\n",
       "      <td>bd52552db927fca11ab0e6ef56313545</td>\n",
       "      <td>96c5fb314a29a3823d859c5e42715504</td>\n",
       "      <td>2021-05-01 00:01:38</td>\n",
       "      <td>ee9333ad67115b5c0e4f470005d70690</td>\n",
       "      <td>1cec9761413161c9fe880e3da3e2df8f</td>\n",
       "      <td>59.445</td>\n",
       "      <td>DEBITO</td>\n",
       "      <td>2021-05-01</td>\n",
       "    </tr>\n",
       "    <tr>\n",
       "      <th>1427732</th>\n",
       "      <td>817d18cd3c31e40e9bff0566baae7758</td>\n",
       "      <td>fd6ce552d6bb1c08962972f76c0542ba</td>\n",
       "      <td>e5bbc3d7754ee7365c6a891bdc430e55</td>\n",
       "      <td>2021-05-01 00:02:29</td>\n",
       "      <td>d31c77f805ea71310e87dc7f50ec23cc</td>\n",
       "      <td>d4c9a85282784a6d345bf4ee7b16bd8e</td>\n",
       "      <td>59.445</td>\n",
       "      <td>DEBITO</td>\n",
       "      <td>2021-05-01</td>\n",
       "    </tr>\n",
       "    <tr>\n",
       "      <th>1162276</th>\n",
       "      <td>817d18cd3c31e40e9bff0566baae7758</td>\n",
       "      <td>a386ff46edf4fb56d9f0bdd72f34008a</td>\n",
       "      <td>e276b9fe27f12e216543bf51b0094dc2</td>\n",
       "      <td>2021-05-01 00:06:18</td>\n",
       "      <td>263fc0d031917c95c98cb61be2ba3f54</td>\n",
       "      <td>d51a637a41280f462d06fa15b361ad09</td>\n",
       "      <td>23.778</td>\n",
       "      <td>DEBITO</td>\n",
       "      <td>2021-05-01</td>\n",
       "    </tr>\n",
       "  </tbody>\n",
       "</table>\n",
       "</div>"
      ],
      "text/plain": [
       "                              merchant_id                               _id  \\\n",
       "1308460  817d18cd3c31e40e9bff0566baae7758  cccd4e8518a582b39ce1cffe44edc8af   \n",
       "1106433  817d18cd3c31e40e9bff0566baae7758  b24404b20feb753d1f5bd8f2011c3d27   \n",
       "1637920  817d18cd3c31e40e9bff0566baae7758  bd52552db927fca11ab0e6ef56313545   \n",
       "1427732  817d18cd3c31e40e9bff0566baae7758  fd6ce552d6bb1c08962972f76c0542ba   \n",
       "1162276  817d18cd3c31e40e9bff0566baae7758  a386ff46edf4fb56d9f0bdd72f34008a   \n",
       "\n",
       "                               subsidiary    transaction_date  \\\n",
       "1308460  96276bee7fbbf1ca462f3d47764d377a 2021-05-01 00:01:21   \n",
       "1106433  4ba2bf9dfd5681f4f0da17ca275aa023 2021-05-01 00:01:29   \n",
       "1637920  96c5fb314a29a3823d859c5e42715504 2021-05-01 00:01:38   \n",
       "1427732  e5bbc3d7754ee7365c6a891bdc430e55 2021-05-01 00:02:29   \n",
       "1162276  e276b9fe27f12e216543bf51b0094dc2 2021-05-01 00:06:18   \n",
       "\n",
       "                           account_number                           user_id  \\\n",
       "1308460  8bec2d575c1e33c74f92dd0a09501702  1dbae7a18837ce218aae142cc83c23a2   \n",
       "1106433  3d9a19bd785dda7ba7dfdb8221a0e562  5e9f571ca5c463c40116da034975b60b   \n",
       "1637920  ee9333ad67115b5c0e4f470005d70690  1cec9761413161c9fe880e3da3e2df8f   \n",
       "1427732  d31c77f805ea71310e87dc7f50ec23cc  d4c9a85282784a6d345bf4ee7b16bd8e   \n",
       "1162276  263fc0d031917c95c98cb61be2ba3f54  d51a637a41280f462d06fa15b361ad09   \n",
       "\n",
       "         transaction_amount transaction_type       date  \n",
       "1308460              59.445           DEBITO 2021-05-01  \n",
       "1106433              59.445           DEBITO 2021-05-01  \n",
       "1637920              59.445           DEBITO 2021-05-01  \n",
       "1427732              59.445           DEBITO 2021-05-01  \n",
       "1162276              23.778           DEBITO 2021-05-01  "
      ]
     },
     "execution_count": 9,
     "metadata": {},
     "output_type": "execute_result"
    }
   ],
   "source": [
    "df_may.head()"
   ]
  }
 ],
 "metadata": {
  "kernelspec": {
   "display_name": "nequi_code",
   "language": "python",
   "name": "python3"
  },
  "language_info": {
   "codemirror_mode": {
    "name": "ipython",
    "version": 3
   },
   "file_extension": ".py",
   "mimetype": "text/x-python",
   "name": "python",
   "nbconvert_exporter": "python",
   "pygments_lexer": "ipython3",
   "version": "3.9.13"
  },
  "orig_nbformat": 4
 },
 "nbformat": 4,
 "nbformat_minor": 2
}
