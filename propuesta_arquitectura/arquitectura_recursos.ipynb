version https://git-lfs.github.com/spec/v1
oid sha256:b86385a63f79b82b5b4e978cb96434985bfafe86392928a0fdd08000c17e847a
size 4329
